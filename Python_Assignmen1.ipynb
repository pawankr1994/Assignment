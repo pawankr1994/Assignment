{
  "nbformat": 4,
  "nbformat_minor": 0,
  "metadata": {
    "colab": {
      "provenance": []
    },
    "kernelspec": {
      "name": "python3",
      "display_name": "Python 3"
    },
    "language_info": {
      "name": "python"
    }
  },
  "cells": [
    {
      "cell_type": "markdown",
      "source": [
        "#### 1. Write a Python program to reverse a string without using any built-in string reversal functions."
      ],
      "metadata": {
        "id": "GSLPgLC-0vK8"
      }
    },
    {
      "cell_type": "code",
      "source": [
        "def reverse_string(string):\n",
        "    reversed_string = \"\"\n",
        "    for i in range(len(string) - 1, -1, -1):\n",
        "        reversed_string += string[i]\n",
        "    return reversed_string\n",
        "\n"
      ],
      "metadata": {
        "id": "SGmLdQfH1Gsm"
      },
      "execution_count": null,
      "outputs": []
    },
    {
      "cell_type": "code",
      "source": [
        "reverse_string('vicky play football')"
      ],
      "metadata": {
        "id": "iW3m57g73GDB",
        "colab": {
          "base_uri": "https://localhost:8080/",
          "height": 35
        },
        "outputId": "14ed6e50-892e-4ff9-e865-73a64c4c243c"
      },
      "execution_count": null,
      "outputs": [
        {
          "output_type": "execute_result",
          "data": {
            "text/plain": [
              "'llabtoof yalp ykciv'"
            ],
            "application/vnd.google.colaboratory.intrinsic+json": {
              "type": "string"
            }
          },
          "metadata": {},
          "execution_count": 2
        }
      ]
    },
    {
      "cell_type": "markdown",
      "source": [
        "2. Implement a function to check if a given string is a palindrome."
      ],
      "metadata": {
        "id": "12umo5aYKqAa"
      }
    },
    {
      "cell_type": "code",
      "source": [
        "def is_palindrome(string):\n",
        "    string = string.replace(\" \", \"\")\n",
        "    return string == string[::-1]\n",
        "\n"
      ],
      "metadata": {
        "id": "7VV2X5G6KiZA"
      },
      "execution_count": null,
      "outputs": []
    },
    {
      "cell_type": "code",
      "source": [
        "is_palindrome('civic')"
      ],
      "metadata": {
        "colab": {
          "base_uri": "https://localhost:8080/"
        },
        "id": "kVnEGHbwLU7X",
        "outputId": "f6e52bd0-a0ff-49da-a94c-d655a37ec406"
      },
      "execution_count": null,
      "outputs": [
        {
          "output_type": "execute_result",
          "data": {
            "text/plain": [
              "True"
            ]
          },
          "metadata": {},
          "execution_count": 4
        }
      ]
    },
    {
      "cell_type": "code",
      "source": [
        "is_palindrome('pawan')"
      ],
      "metadata": {
        "colab": {
          "base_uri": "https://localhost:8080/"
        },
        "id": "ybe1LqFZLale",
        "outputId": "2b71ff37-ad85-4943-a9da-da7fb8c6aa9b"
      },
      "execution_count": null,
      "outputs": [
        {
          "output_type": "execute_result",
          "data": {
            "text/plain": [
              "False"
            ]
          },
          "metadata": {},
          "execution_count": 5
        }
      ]
    },
    {
      "cell_type": "markdown",
      "source": [
        "3. Write a program to find the largest element in a given list."
      ],
      "metadata": {
        "id": "jKFDefEnMqx8"
      }
    },
    {
      "cell_type": "code",
      "source": [
        "def largest_element(list):\n",
        "    if len(list) == 0:\n",
        "        return None\n",
        "\n",
        "    largest = list[0]\n",
        "    for element in list:\n",
        "        if element > largest:\n",
        "            largest = element\n",
        "\n",
        "    return largest\n"
      ],
      "metadata": {
        "id": "R8L3gKwWMn5u"
      },
      "execution_count": null,
      "outputs": []
    },
    {
      "cell_type": "code",
      "source": [
        "A = [10, 45, 23, 67, 99, 12, 100]"
      ],
      "metadata": {
        "id": "UJhN7xZ3Mn8n"
      },
      "execution_count": null,
      "outputs": []
    },
    {
      "cell_type": "code",
      "source": [
        "largest_element(A)"
      ],
      "metadata": {
        "colab": {
          "base_uri": "https://localhost:8080/"
        },
        "id": "PP_AvCO3Ngbs",
        "outputId": "8362301c-4250-4fe2-975a-3df4b89f61ea"
      },
      "execution_count": null,
      "outputs": [
        {
          "output_type": "execute_result",
          "data": {
            "text/plain": [
              "100"
            ]
          },
          "metadata": {},
          "execution_count": 8
        }
      ]
    },
    {
      "cell_type": "markdown",
      "source": [
        "4. Implement a function to count the occurrence of each element in a list."
      ],
      "metadata": {
        "id": "FcR2OCshthex"
      }
    },
    {
      "cell_type": "code",
      "source": [
        "def count_occurrences(list):\n",
        "    occurrence_count = {}\n",
        "\n",
        "    for element in list:\n",
        "        if element in occurrence_count:\n",
        "            occurrence_count[element] += 1\n",
        "        else:\n",
        "            occurrence_count[element] = 1\n",
        "\n",
        "    return occurrence_count\n"
      ],
      "metadata": {
        "id": "ru2wV_s-Nk7D"
      },
      "execution_count": null,
      "outputs": []
    },
    {
      "cell_type": "code",
      "source": [
        "A = [1, 2, 3, 2, 4, 1, 2, 4, 4, 5, 1, 2, 5]\n",
        "count_occurrences(A)"
      ],
      "metadata": {
        "colab": {
          "base_uri": "https://localhost:8080/"
        },
        "id": "y7432i5pudNS",
        "outputId": "facd56b0-404d-48e0-c7ed-74c914a8d3b4"
      },
      "execution_count": null,
      "outputs": [
        {
          "output_type": "execute_result",
          "data": {
            "text/plain": [
              "{1: 3, 2: 4, 3: 1, 4: 3, 5: 2}"
            ]
          },
          "metadata": {},
          "execution_count": 11
        }
      ]
    },
    {
      "cell_type": "markdown",
      "source": [
        "5. Write a Python program to find the second largest number in a list."
      ],
      "metadata": {
        "id": "huoWCGdnu8DB"
      }
    },
    {
      "cell_type": "code",
      "source": [
        "def second_largest_element(list):\n",
        "  list.sort(reverse=True)\n",
        "  second_largest_element = list[1]\n",
        "\n",
        "  return second_largest_element\n"
      ],
      "metadata": {
        "id": "gD-RBUUkuoLH"
      },
      "execution_count": null,
      "outputs": []
    },
    {
      "cell_type": "code",
      "source": [
        "A = [10, 4, 2, 9, 7, 5, 1, 3, 6, 8]\n",
        "\n",
        "second_largest_element(A)"
      ],
      "metadata": {
        "colab": {
          "base_uri": "https://localhost:8080/"
        },
        "id": "oLDWX5REwHHW",
        "outputId": "55fbb9bb-b21c-47e7-bef6-c3b8a5e39484"
      },
      "execution_count": null,
      "outputs": [
        {
          "output_type": "execute_result",
          "data": {
            "text/plain": [
              "9"
            ]
          },
          "metadata": {},
          "execution_count": 13
        }
      ]
    },
    {
      "cell_type": "markdown",
      "source": [
        "6. Implement a function to remove duplicate elements from a list.\n"
      ],
      "metadata": {
        "id": "pc9dR0QGwZvh"
      }
    },
    {
      "cell_type": "code",
      "source": [
        "def remove_duplicates(lst):\n",
        "    unique_elements = []\n",
        "    for element in lst:\n",
        "        if element not in unique_elements:\n",
        "            unique_elements.append(element)\n",
        "    return unique_elements\n"
      ],
      "metadata": {
        "id": "qECnxWkxwP3H"
      },
      "execution_count": null,
      "outputs": []
    },
    {
      "cell_type": "code",
      "source": [
        "\n",
        "A = [1, 2, 3, 2, 4, 1, 2, 4, 5]\n"
      ],
      "metadata": {
        "id": "j5_64P7Ywp4e"
      },
      "execution_count": null,
      "outputs": []
    },
    {
      "cell_type": "code",
      "source": [
        "remove_duplicates(A)"
      ],
      "metadata": {
        "colab": {
          "base_uri": "https://localhost:8080/"
        },
        "id": "4ddRmRDXwzZo",
        "outputId": "8b11bc23-5d60-49c6-c1e8-8deee2346385"
      },
      "execution_count": null,
      "outputs": [
        {
          "output_type": "execute_result",
          "data": {
            "text/plain": [
              "[1, 2, 3, 4, 5]"
            ]
          },
          "metadata": {},
          "execution_count": 23
        }
      ]
    },
    {
      "cell_type": "markdown",
      "source": [
        "7. Write a program to calculate the factorial of a given number."
      ],
      "metadata": {
        "id": "FcvhM2GbzI6z"
      }
    },
    {
      "cell_type": "code",
      "source": [
        "def factorial(n):\n",
        "    if n == 0:\n",
        "        return 1\n",
        "    else:\n",
        "        return n * factorial(n - 1)"
      ],
      "metadata": {
        "id": "oeXJoNV3yxTB"
      },
      "execution_count": null,
      "outputs": []
    },
    {
      "cell_type": "code",
      "source": [
        "factorial(9)"
      ],
      "metadata": {
        "colab": {
          "base_uri": "https://localhost:8080/"
        },
        "id": "mtbbCTkfzbox",
        "outputId": "f10debab-974b-447a-8187-600eae5ff01f"
      },
      "execution_count": null,
      "outputs": [
        {
          "output_type": "execute_result",
          "data": {
            "text/plain": [
              "362880"
            ]
          },
          "metadata": {},
          "execution_count": 28
        }
      ]
    },
    {
      "cell_type": "markdown",
      "source": [
        "8. Implement a function to check if a given number is prime."
      ],
      "metadata": {
        "id": "hPdpA3bB7JiS"
      }
    },
    {
      "cell_type": "code",
      "source": [
        "def is_prime(n):\n",
        "    if n <= 1:\n",
        "        return False  # Numbers less than or equal to 1 are not prime\n",
        "\n",
        "    for i in range(2, int(n**0.5) + 1):\n",
        "        if n % i == 0:\n",
        "            return False\n",
        "    return True\n"
      ],
      "metadata": {
        "id": "OtcC7mLCzfvv"
      },
      "execution_count": null,
      "outputs": []
    },
    {
      "cell_type": "code",
      "source": [
        "is_prime(5)"
      ],
      "metadata": {
        "colab": {
          "base_uri": "https://localhost:8080/"
        },
        "id": "AE6GsaD98Drd",
        "outputId": "95225399-db58-4b0d-a5dc-adcfa2b9e94a"
      },
      "execution_count": null,
      "outputs": [
        {
          "output_type": "execute_result",
          "data": {
            "text/plain": [
              "True"
            ]
          },
          "metadata": {},
          "execution_count": 31
        }
      ]
    },
    {
      "cell_type": "markdown",
      "source": [
        "9. Write a Python program to sort a list of integers in ascending order."
      ],
      "metadata": {
        "id": "wd_wTJsN8Ur1"
      }
    },
    {
      "cell_type": "code",
      "source": [
        "def sort_list_ascending(list):\n",
        "    n = len(list)\n",
        "    for i in range(n):\n",
        "        for j in range(0, n - i - 1):\n",
        "            if list[j] > list[j + 1]:\n",
        "                list[j], list[j + 1] = list[j + 1], list[j]\n",
        "    return list"
      ],
      "metadata": {
        "id": "WjlXJC4N8E71"
      },
      "execution_count": null,
      "outputs": []
    },
    {
      "cell_type": "code",
      "source": [
        "\n",
        "A = [5, 2, 9, 1, 7, 3, 6, 8, 2, 5]\n",
        "sort_list_ascending(A)\n"
      ],
      "metadata": {
        "colab": {
          "base_uri": "https://localhost:8080/"
        },
        "id": "cD8CU-ZP8bsm",
        "outputId": "18a5777f-f906-416b-cc35-7087309d7fa1"
      },
      "execution_count": null,
      "outputs": [
        {
          "output_type": "execute_result",
          "data": {
            "text/plain": [
              "[1, 2, 2, 3, 5, 5, 6, 7, 8, 9]"
            ]
          },
          "metadata": {},
          "execution_count": 38
        }
      ]
    },
    {
      "cell_type": "markdown",
      "source": [
        "10. Implement a function to find the sum of all numbers in a list."
      ],
      "metadata": {
        "id": "5t0_PmBL-cVC"
      }
    },
    {
      "cell_type": "code",
      "source": [
        "def calculate_sum(list):\n",
        "    total = 0\n",
        "    for num in list:\n",
        "        total += num\n",
        "    return total"
      ],
      "metadata": {
        "id": "xUc0Xiut8sWg"
      },
      "execution_count": null,
      "outputs": []
    },
    {
      "cell_type": "code",
      "source": [
        "list = [1,2,3,4,5,5,6,7,6,5,4]"
      ],
      "metadata": {
        "id": "DR-Y62BV-r84"
      },
      "execution_count": null,
      "outputs": []
    },
    {
      "cell_type": "code",
      "source": [
        "calculate_sum(list)"
      ],
      "metadata": {
        "colab": {
          "base_uri": "https://localhost:8080/"
        },
        "id": "mWZwr69W-zcl",
        "outputId": "17db9d82-293c-48e1-feb3-46ef4a237107"
      },
      "execution_count": null,
      "outputs": [
        {
          "output_type": "execute_result",
          "data": {
            "text/plain": [
              "48"
            ]
          },
          "metadata": {},
          "execution_count": 43
        }
      ]
    },
    {
      "cell_type": "markdown",
      "source": [
        "11. Write a program to find the common elements between two lists.\n"
      ],
      "metadata": {
        "id": "RXNdvQS0_Bki"
      }
    },
    {
      "cell_type": "code",
      "source": [
        "def find_common_elements(list1, list2):\n",
        "  common_elements = []\n",
        "  for element in list1:\n",
        "    if element in list2:\n",
        "      common_elements.append(element)\n",
        "\n",
        "  return common_elements"
      ],
      "metadata": {
        "id": "qem-hVdm-3Ux"
      },
      "execution_count": null,
      "outputs": []
    },
    {
      "cell_type": "code",
      "source": [
        "list1 = [1, 2, 3, 4, 5]\n",
        "list2 = [2, 3, 5, 6, 7]"
      ],
      "metadata": {
        "id": "Z5aaS7VoA7Cr"
      },
      "execution_count": null,
      "outputs": []
    },
    {
      "cell_type": "code",
      "source": [
        "find_common_elements(list1, list2)"
      ],
      "metadata": {
        "colab": {
          "base_uri": "https://localhost:8080/"
        },
        "id": "6QjJnpflBBXQ",
        "outputId": "30444dfc-bdfb-45d4-e327-99e9fa5a497d"
      },
      "execution_count": null,
      "outputs": [
        {
          "output_type": "execute_result",
          "data": {
            "text/plain": [
              "[2, 3, 5]"
            ]
          },
          "metadata": {},
          "execution_count": 47
        }
      ]
    },
    {
      "cell_type": "markdown",
      "source": [
        "12. Implement a function to check if a given string is an anagram of another string.\n"
      ],
      "metadata": {
        "id": "fpJqUpwuQ-56"
      }
    },
    {
      "cell_type": "code",
      "source": [
        "def is_anagram(str1, str2):\n",
        "\n",
        "  if len(str1) != len(str2):\n",
        "    return False\n",
        "\n",
        "  char_counts = {}\n",
        "  for char in str1:\n",
        "    if char in char_counts:\n",
        "      char_counts[char] += 1\n",
        "    else:\n",
        "      char_counts[char] = 1\n",
        "\n",
        "  for char in str2:\n",
        "    if char not in char_counts:\n",
        "      return False\n",
        "    else:\n",
        "      char_counts[char] -= 1\n",
        "\n",
        "  for count in char_counts.values():\n",
        "    if count != 0:\n",
        "      return False\n",
        "\n",
        "  return True"
      ],
      "metadata": {
        "id": "rxKXTYZbBJXa"
      },
      "execution_count": null,
      "outputs": []
    },
    {
      "cell_type": "code",
      "source": [
        "string1 = \"listen\"\n",
        "string2 = \"silent\"\n",
        "print(is_anagram(string1, string2))\n"
      ],
      "metadata": {
        "colab": {
          "base_uri": "https://localhost:8080/"
        },
        "id": "XB04qre8SJ1J",
        "outputId": "faf91f84-ebc5-42bc-cd2e-0a25e6fca351"
      },
      "execution_count": null,
      "outputs": [
        {
          "output_type": "stream",
          "name": "stdout",
          "text": [
            "True\n"
          ]
        }
      ]
    },
    {
      "cell_type": "markdown",
      "source": [
        "13. Write a Python program to generate all permutations of a given string."
      ],
      "metadata": {
        "id": "K2SbLZZFSSUv"
      }
    },
    {
      "cell_type": "code",
      "source": [
        "def permutations(str):\n",
        "\n",
        "  if len(str) == 0:\n",
        "    return ['']\n",
        "\n",
        "  permutations_list = []\n",
        "  for i in range(len(str)):\n",
        "    first_char = str[i]\n",
        "    remaining_string = str[:i] + str[i + 1:]\n",
        "    permutations_of_remaining_string = permutations(remaining_string)\n",
        "    for permutation in permutations_of_remaining_string:\n",
        "      permutations_list.append(first_char + permutation)\n",
        "\n",
        "  return permutations_list"
      ],
      "metadata": {
        "id": "ZgOeQqYiSOlk"
      },
      "execution_count": null,
      "outputs": []
    },
    {
      "cell_type": "code",
      "source": [
        "permutations('play')"
      ],
      "metadata": {
        "colab": {
          "base_uri": "https://localhost:8080/"
        },
        "id": "JsoqPk3fUAJq",
        "outputId": "269ef07e-0bc0-4c90-c4cb-542932ed01ca"
      },
      "execution_count": null,
      "outputs": [
        {
          "output_type": "execute_result",
          "data": {
            "text/plain": [
              "['play',\n",
              " 'plya',\n",
              " 'paly',\n",
              " 'payl',\n",
              " 'pyla',\n",
              " 'pyal',\n",
              " 'lpay',\n",
              " 'lpya',\n",
              " 'lapy',\n",
              " 'layp',\n",
              " 'lypa',\n",
              " 'lyap',\n",
              " 'aply',\n",
              " 'apyl',\n",
              " 'alpy',\n",
              " 'alyp',\n",
              " 'aypl',\n",
              " 'aylp',\n",
              " 'ypla',\n",
              " 'ypal',\n",
              " 'ylpa',\n",
              " 'ylap',\n",
              " 'yapl',\n",
              " 'yalp']"
            ]
          },
          "metadata": {},
          "execution_count": 8
        }
      ]
    },
    {
      "cell_type": "markdown",
      "source": [
        "14. Implement a function to calculate the Fibonacci sequence up to a given number of terms."
      ],
      "metadata": {
        "id": "HbWT4Kb6VUXO"
      }
    },
    {
      "cell_type": "code",
      "source": [
        "def fibonacci_sequence(n):\n",
        "    sequence = [0, 1]\n",
        "\n",
        "    for i in range(2, n):\n",
        "        next_term = sequence[i - 1] + sequence[i - 2]\n",
        "        sequence.append(next_term)\n",
        "\n",
        "    return sequence[:n]\n",
        "\n"
      ],
      "metadata": {
        "id": "8nwB6C4XUFKv"
      },
      "execution_count": null,
      "outputs": []
    },
    {
      "cell_type": "code",
      "source": [
        "num_terms = 10\n",
        "fibonacci_sequence_result = fibonacci_sequence(num_terms)\n",
        "print(fibonacci_sequence_result)"
      ],
      "metadata": {
        "colab": {
          "base_uri": "https://localhost:8080/"
        },
        "id": "kvVNw-fBAb7J",
        "outputId": "8a57bd70-af90-4b38-f3b1-47e4260d56f1"
      },
      "execution_count": null,
      "outputs": [
        {
          "output_type": "stream",
          "name": "stdout",
          "text": [
            "[0, 1, 1, 2, 3, 5, 8, 13, 21, 34]\n"
          ]
        }
      ]
    },
    {
      "cell_type": "markdown",
      "source": [
        "15. Write a program to find the median of a list of numbers.\n"
      ],
      "metadata": {
        "id": "yPAjXeLsC0Vp"
      }
    },
    {
      "cell_type": "code",
      "source": [
        "def find_median(numbers):\n",
        "    sorted_numbers = sorted(numbers)\n",
        "    n = len(sorted_numbers)\n",
        "    if n % 2 == 1:\n",
        "        median = sorted_numbers[n // 2]\n",
        "    else:\n",
        "        mid_right = n // 2\n",
        "        mid_left = mid_right - 1\n",
        "        median = (sorted_numbers[mid_left] + sorted_numbers[mid_right]) / 2\n",
        "\n",
        "    return median\n"
      ],
      "metadata": {
        "id": "eeueljoeBrNd"
      },
      "execution_count": null,
      "outputs": []
    },
    {
      "cell_type": "code",
      "source": [
        "find_median([7, 2, 9, 1, 5, 3, 4])"
      ],
      "metadata": {
        "colab": {
          "base_uri": "https://localhost:8080/"
        },
        "id": "xsk1VJE4DLap",
        "outputId": "b58cd8a1-1300-4f55-8929-7e10296e155d"
      },
      "execution_count": null,
      "outputs": [
        {
          "output_type": "execute_result",
          "data": {
            "text/plain": [
              "4"
            ]
          },
          "metadata": {},
          "execution_count": 11
        }
      ]
    },
    {
      "cell_type": "markdown",
      "source": [
        "16. Implement a function to check if a given list is sorted in non-decreasing order.\n"
      ],
      "metadata": {
        "id": "TknkKb-XD96c"
      }
    },
    {
      "cell_type": "code",
      "source": [
        "def is_sorted(numbers):\n",
        "    n = len(numbers)\n",
        "    for i in range(1, n):\n",
        "        if numbers[i] < numbers[i - 1]:\n",
        "            return False\n",
        "    return True"
      ],
      "metadata": {
        "id": "gLPaUvjYDWeB"
      },
      "execution_count": null,
      "outputs": []
    },
    {
      "cell_type": "code",
      "source": [
        "\n",
        "l = [1, 2, 3, 4, 5]\n",
        "is_sorted(l)\n"
      ],
      "metadata": {
        "colab": {
          "base_uri": "https://localhost:8080/"
        },
        "id": "P8A2iqBaEg2B",
        "outputId": "bb1ea692-ad42-4462-ad6d-3fd4004963c7"
      },
      "execution_count": null,
      "outputs": [
        {
          "output_type": "execute_result",
          "data": {
            "text/plain": [
              "True"
            ]
          },
          "metadata": {},
          "execution_count": 14
        }
      ]
    },
    {
      "cell_type": "markdown",
      "source": [
        "17. Write a Python program to find the intersection of two lists."
      ],
      "metadata": {
        "id": "FQ_cilVPFGNb"
      }
    },
    {
      "cell_type": "code",
      "source": [
        "def find_intersection(list1, list2):\n",
        "    intersection = []\n",
        "    for item in list1:\n",
        "        if item in list2:\n",
        "            intersection.append(item)\n",
        "    return intersection\n"
      ],
      "metadata": {
        "id": "rpnSmOxEEoLe"
      },
      "execution_count": null,
      "outputs": []
    },
    {
      "cell_type": "code",
      "source": [
        "l1 = [1, 2, 3, 4, 5]\n",
        "l2 = [4, 5, 6, 7, 8]\n",
        "find_intersection(l1, l2)\n"
      ],
      "metadata": {
        "colab": {
          "base_uri": "https://localhost:8080/"
        },
        "id": "722E5czvFfYw",
        "outputId": "6a068717-eaa9-4474-cf7d-6622c63d713e"
      },
      "execution_count": null,
      "outputs": [
        {
          "output_type": "execute_result",
          "data": {
            "text/plain": [
              "[4, 5]"
            ]
          },
          "metadata": {},
          "execution_count": 16
        }
      ]
    },
    {
      "cell_type": "markdown",
      "source": [
        "18. Implement a function to find the maximum subarray sum in a given list.\n"
      ],
      "metadata": {
        "id": "Pl8ssiR2Fx0a"
      }
    },
    {
      "cell_type": "code",
      "source": [
        "def find_max_subarray_sum(numbers):\n",
        "    current_sum = 0\n",
        "    max_sum = float('-inf')\n",
        "\n",
        "    for num in numbers:\n",
        "        current_sum = max(num, current_sum + num)\n",
        "        max_sum = max(max_sum, current_sum)\n",
        "\n",
        "    return max_sum"
      ],
      "metadata": {
        "id": "UBw7yfBLFqlt"
      },
      "execution_count": null,
      "outputs": []
    },
    {
      "cell_type": "code",
      "source": [
        "\n",
        "l = [-2, 1, -3, 4, -1, 2, 1, -5, 4]\n",
        "find_max_subarray_sum(l)\n"
      ],
      "metadata": {
        "colab": {
          "base_uri": "https://localhost:8080/"
        },
        "id": "6vH5Vr7SHAON",
        "outputId": "4371b52c-13d6-4c4d-832b-2d8553f229a5"
      },
      "execution_count": null,
      "outputs": [
        {
          "output_type": "execute_result",
          "data": {
            "text/plain": [
              "6"
            ]
          },
          "metadata": {},
          "execution_count": 18
        }
      ]
    },
    {
      "cell_type": "markdown",
      "source": [
        "19. Write a program to remove all vowels from a given string."
      ],
      "metadata": {
        "id": "dEnXRXd4I-KH"
      }
    },
    {
      "cell_type": "code",
      "source": [
        "def remove_vowels(string):\n",
        "    vowels = \"aeiouAEIOU\"\n",
        "    without_vowels = \"\"\n",
        "\n",
        "    for char in string:\n",
        "        if char not in vowels:\n",
        "            without_vowels += char\n",
        "\n",
        "    return without_vowels"
      ],
      "metadata": {
        "id": "Qkmr9hHPHKDi"
      },
      "execution_count": null,
      "outputs": []
    },
    {
      "cell_type": "code",
      "source": [
        "\n",
        "input_string = \"Hello, World!\"\n",
        "remove_vowels(input_string)\n"
      ],
      "metadata": {
        "colab": {
          "base_uri": "https://localhost:8080/",
          "height": 35
        },
        "id": "FgB5kHi3JX_r",
        "outputId": "e237ac81-159f-4af6-fe39-2041dea58974"
      },
      "execution_count": null,
      "outputs": [
        {
          "output_type": "execute_result",
          "data": {
            "text/plain": [
              "'Hll, Wrld!'"
            ],
            "application/vnd.google.colaboratory.intrinsic+json": {
              "type": "string"
            }
          },
          "metadata": {},
          "execution_count": 20
        }
      ]
    },
    {
      "cell_type": "markdown",
      "source": [
        "20. Implement a function to reverse the order of words in a given sentence."
      ],
      "metadata": {
        "id": "18IVdBBNJl2W"
      }
    },
    {
      "cell_type": "code",
      "source": [
        "def reverse_words(sentence):\n",
        "    words = sentence.split()  # Split the sentence into individual words\n",
        "    reversed_words = words[::-1]  # Reverse the order of words\n",
        "    reversed_sentence = \" \".join(reversed_words)  # Join the reversed words with spaces\n",
        "    return reversed_sentence"
      ],
      "metadata": {
        "id": "Ut7wUzTZJd9S"
      },
      "execution_count": null,
      "outputs": []
    },
    {
      "cell_type": "code",
      "source": [
        "\n",
        "# Example usage:\n",
        "input_sentence = \"hello, world!\"\n",
        "reverse_words(input_sentence)\n",
        "\n"
      ],
      "metadata": {
        "colab": {
          "base_uri": "https://localhost:8080/",
          "height": 35
        },
        "id": "lBXhY7HxKIjm",
        "outputId": "bbf92e08-cd4d-4c69-b37c-11842b5b2f04"
      },
      "execution_count": null,
      "outputs": [
        {
          "output_type": "execute_result",
          "data": {
            "text/plain": [
              "'world! hello,'"
            ],
            "application/vnd.google.colaboratory.intrinsic+json": {
              "type": "string"
            }
          },
          "metadata": {},
          "execution_count": 24
        }
      ]
    },
    {
      "cell_type": "markdown",
      "source": [
        "21. Write a Python program to check if two strings are anagrams of each other."
      ],
      "metadata": {
        "id": "-pDGcPZhKX-i"
      }
    },
    {
      "cell_type": "code",
      "source": [
        "def are_anagrams(str1, str2):\n",
        "    str1 = str1.lower()  # Convert both strings to lowercase\n",
        "    str2 = str2.lower()\n",
        "\n",
        "    str1 = str1.replace(\" \", \"\")  # Remove spaces from both strings\n",
        "    str2 = str2.replace(\" \", \"\")\n",
        "\n",
        "    if sorted(str1) == sorted(str2):  # Check if sorted characters of both strings are equal\n",
        "        return True\n",
        "    else:\n",
        "        return False"
      ],
      "metadata": {
        "id": "kgb8lw5kKMKJ"
      },
      "execution_count": null,
      "outputs": []
    },
    {
      "cell_type": "code",
      "source": [
        "string1 = \"listen\"\n",
        "string2 = \"silent\"\n",
        "are_anagrams(string1, string2)\n"
      ],
      "metadata": {
        "colab": {
          "base_uri": "https://localhost:8080/"
        },
        "id": "z1P-YlIHK0Wk",
        "outputId": "d4dee01e-c7b7-4842-cf3b-eaaed9923238"
      },
      "execution_count": null,
      "outputs": [
        {
          "output_type": "execute_result",
          "data": {
            "text/plain": [
              "True"
            ]
          },
          "metadata": {},
          "execution_count": 28
        }
      ]
    },
    {
      "cell_type": "markdown",
      "source": [
        "22. Implement a function to find the first non-repeating character in a string."
      ],
      "metadata": {
        "id": "rVqUar-TLcL1"
      }
    },
    {
      "cell_type": "code",
      "source": [
        "def find_first_non_repeating_char(string):\n",
        "    char_count = {}\n",
        "\n",
        "    for char in string:\n",
        "        if char in char_count:\n",
        "            char_count[char] += 1\n",
        "        else:\n",
        "            char_count[char] = 1\n",
        "\n",
        "    for char in string:\n",
        "        if char_count[char] == 1:\n",
        "            return char\n",
        "\n",
        "    return None\n"
      ],
      "metadata": {
        "id": "z5D4XP7YK5tj"
      },
      "execution_count": null,
      "outputs": []
    },
    {
      "cell_type": "code",
      "source": [
        "\n",
        "input_string = \"hello world\"\n",
        "find_first_non_repeating_char(input_string)\n"
      ],
      "metadata": {
        "colab": {
          "base_uri": "https://localhost:8080/",
          "height": 35
        },
        "id": "cE9URt8BMK1o",
        "outputId": "c1fa8cb0-27dc-4485-fd79-7a782fd6f0b9"
      },
      "execution_count": null,
      "outputs": [
        {
          "output_type": "execute_result",
          "data": {
            "text/plain": [
              "'h'"
            ],
            "application/vnd.google.colaboratory.intrinsic+json": {
              "type": "string"
            }
          },
          "metadata": {},
          "execution_count": 32
        }
      ]
    },
    {
      "cell_type": "markdown",
      "source": [
        "23. Write a program to find the prime factors of a given number."
      ],
      "metadata": {
        "id": "6eQbUsy5NHCK"
      }
    },
    {
      "cell_type": "code",
      "source": [
        "def prime_factors(number):\n",
        "    factors = []\n",
        "    for i in range(2, int(number ** 0.5) + 1):\n",
        "        while number % i == 0:\n",
        "            factors.append(i)\n",
        "            number //= i\n",
        "    if number > 1:\n",
        "        factors.append(number)\n",
        "    return factors"
      ],
      "metadata": {
        "id": "qhGnWOvcMOqf"
      },
      "execution_count": null,
      "outputs": []
    },
    {
      "cell_type": "code",
      "source": [
        "prime_factors(20)"
      ],
      "metadata": {
        "colab": {
          "base_uri": "https://localhost:8080/"
        },
        "id": "D3tML4bRQFx8",
        "outputId": "0743bc3b-7efc-4359-c078-c25f86acea3d"
      },
      "execution_count": null,
      "outputs": [
        {
          "output_type": "execute_result",
          "data": {
            "text/plain": [
              "[2, 2, 5]"
            ]
          },
          "metadata": {},
          "execution_count": 35
        }
      ]
    },
    {
      "cell_type": "markdown",
      "source": [
        "24. Implement a function to check if a given number is a power of two."
      ],
      "metadata": {
        "id": "cAehzKtkRZsr"
      }
    },
    {
      "cell_type": "code",
      "source": [
        "def is_power_of_two(number):\n",
        "\n",
        "    if number == 0:\n",
        "        return False\n",
        "    elif number == 1:\n",
        "        return True\n",
        "    else:\n",
        "        return number & (number - 1) == 0\n"
      ],
      "metadata": {
        "id": "RiUlhNyJQLAa"
      },
      "execution_count": null,
      "outputs": []
    },
    {
      "cell_type": "code",
      "source": [
        "is_power_of_two(16)"
      ],
      "metadata": {
        "id": "-wQDet4sSuoB",
        "colab": {
          "base_uri": "https://localhost:8080/"
        },
        "outputId": "aa5b6ae1-411f-4f5a-efa6-46e830ee4a4a"
      },
      "execution_count": null,
      "outputs": [
        {
          "output_type": "execute_result",
          "data": {
            "text/plain": [
              "True"
            ]
          },
          "metadata": {},
          "execution_count": 37
        }
      ]
    },
    {
      "cell_type": "markdown",
      "source": [
        "25. Write a Python program to merge two sorted lists into a single sorted list."
      ],
      "metadata": {
        "id": "GY3rCzWbeFWL"
      }
    },
    {
      "cell_type": "code",
      "source": [
        "def merge_sorted_lists(list1, list2):\n",
        "    i = 0\n",
        "    j = 0\n",
        "    result = []\n",
        "    while i < len(list1) and j < len(list2):\n",
        "        if list1[i] <= list2[j]:\n",
        "            result.append(list1[i])\n",
        "            i += 1\n",
        "        else:\n",
        "            result.append(list2[j])\n",
        "            j += 1\n",
        "    if i < len(list1):\n",
        "        result += list1[i:]\n",
        "    else:\n",
        "        result += list2[j:]\n",
        "    return result"
      ],
      "metadata": {
        "id": "-tDm8z6GWcxg"
      },
      "execution_count": null,
      "outputs": []
    },
    {
      "cell_type": "code",
      "source": [
        "    list1 = [1, 3, 5, 7, 9]\n",
        "    list2 = [2, 4, 6, 8, 10]\n",
        "    merge_sorted_lists(list1, list2)"
      ],
      "metadata": {
        "colab": {
          "base_uri": "https://localhost:8080/"
        },
        "id": "1vDlW5QCfFUU",
        "outputId": "f5c1ab52-4d7b-49a8-abcb-b04d19f1c1c3"
      },
      "execution_count": null,
      "outputs": [
        {
          "output_type": "execute_result",
          "data": {
            "text/plain": [
              "[1, 2, 3, 4, 5, 6, 7, 8, 9, 10]"
            ]
          },
          "metadata": {},
          "execution_count": 2
        }
      ]
    },
    {
      "cell_type": "markdown",
      "source": [
        "26. Implement a function to find the mode of a list of numbers"
      ],
      "metadata": {
        "id": "De9ZU6yrgPxX"
      }
    },
    {
      "cell_type": "code",
      "source": [
        "from collections import Counter\n",
        "\n",
        "def find_mode(numbers):\n",
        "    counter = Counter(numbers)\n",
        "    max_count = max(counter.values())\n",
        "    mode = [num for num, count in counter.items() if count == max_count]\n",
        "\n",
        "    return mode"
      ],
      "metadata": {
        "id": "ffH18X1GfRL-"
      },
      "execution_count": null,
      "outputs": []
    },
    {
      "cell_type": "code",
      "source": [
        "l = [1, 2, 2, 3, 3, 3, 4, 5, 5, 5, 5]\n",
        "find_mode(l)\n",
        "\n"
      ],
      "metadata": {
        "colab": {
          "base_uri": "https://localhost:8080/"
        },
        "id": "USifzyZ8girp",
        "outputId": "ed871baf-4e86-428d-fd24-f127dd9dd19c"
      },
      "execution_count": null,
      "outputs": [
        {
          "output_type": "execute_result",
          "data": {
            "text/plain": [
              "[5]"
            ]
          },
          "metadata": {},
          "execution_count": 4
        }
      ]
    },
    {
      "cell_type": "markdown",
      "source": [
        "27. Write a program to find the greatest common divisor (GCD) of two numbers."
      ],
      "metadata": {
        "id": "snybCxoigz4i"
      }
    },
    {
      "cell_type": "code",
      "source": [
        "def find_gcd(a, b):\n",
        "    while b != 0:\n",
        "        a, b = b, a % b\n",
        "    return a"
      ],
      "metadata": {
        "id": "wRkby3X2gzft"
      },
      "execution_count": null,
      "outputs": []
    },
    {
      "cell_type": "code",
      "source": [
        "find_gcd(48,18)"
      ],
      "metadata": {
        "colab": {
          "base_uri": "https://localhost:8080/"
        },
        "id": "IU5rQjLegsqZ",
        "outputId": "f4831e10-34f7-4898-d579-7c87ed0e5de5"
      },
      "execution_count": null,
      "outputs": [
        {
          "output_type": "execute_result",
          "data": {
            "text/plain": [
              "6"
            ]
          },
          "metadata": {},
          "execution_count": 6
        }
      ]
    },
    {
      "cell_type": "markdown",
      "source": [
        "28. Implement a function to calculate the square root of a given number."
      ],
      "metadata": {
        "id": "mUMIkK94hQf_"
      }
    },
    {
      "cell_type": "code",
      "source": [
        "import math\n",
        "\n",
        "\n",
        "def square_root(number):\n",
        "    if number < 0:\n",
        "        raise ValueError(\"Cannot calculate the square root of a negative number.\")\n",
        "    return math.sqrt(number)\n"
      ],
      "metadata": {
        "id": "_29j1UMQhJZ_"
      },
      "execution_count": null,
      "outputs": []
    },
    {
      "cell_type": "code",
      "source": [
        "square_root(16)"
      ],
      "metadata": {
        "colab": {
          "base_uri": "https://localhost:8080/"
        },
        "id": "m1X9wwvthw6n",
        "outputId": "a382fff2-a30c-405a-986d-c0a58bf692d9"
      },
      "execution_count": null,
      "outputs": [
        {
          "output_type": "execute_result",
          "data": {
            "text/plain": [
              "4.0"
            ]
          },
          "metadata": {},
          "execution_count": 13
        }
      ]
    },
    {
      "cell_type": "markdown",
      "source": [
        "29. Write a Python program to check if a given string is a valid palindrome ignoring non-alphanumeric characters."
      ],
      "metadata": {
        "id": "euI4PvuQiNXm"
      }
    },
    {
      "cell_type": "code",
      "source": [
        "import re\n",
        "\n",
        "\n",
        "def is_palindrome(string):\n",
        "    cleaned_string = re.sub(r\"[^a-zA-Z0-9]\", \"\", string)\n",
        "    reversed_string = cleaned_string[::-1]\n",
        "    return cleaned_string == reversed_string\n",
        "\n"
      ],
      "metadata": {
        "id": "W3SNGPw7h212"
      },
      "execution_count": null,
      "outputs": []
    },
    {
      "cell_type": "code",
      "source": [
        "string = \"A man, a plan, a canal: Panama\"\n",
        "is_palindrome(string)\n"
      ],
      "metadata": {
        "colab": {
          "base_uri": "https://localhost:8080/"
        },
        "id": "bz6xAeetjULq",
        "outputId": "bf23215e-5942-4055-e547-29e470600c24"
      },
      "execution_count": null,
      "outputs": [
        {
          "output_type": "execute_result",
          "data": {
            "text/plain": [
              "False"
            ]
          },
          "metadata": {},
          "execution_count": 15
        }
      ]
    },
    {
      "cell_type": "markdown",
      "source": [
        "30. Implement a function to find the minimum element in a rotated sorted list.\n"
      ],
      "metadata": {
        "id": "KSgkncbGjiH1"
      }
    },
    {
      "cell_type": "code",
      "source": [
        "def find_minimum_element(list):\n",
        "\n",
        "    low = 0\n",
        "    high = len(list) - 1\n",
        "    while low <= high:\n",
        "        mid = (low + high) // 2\n",
        "        if list[mid] < list[high]:\n",
        "            return list[mid]\n",
        "        elif list[mid] > list[0]:\n",
        "            low = mid + 1\n",
        "        else:\n",
        "            high = mid - 1\n",
        "    return None"
      ],
      "metadata": {
        "id": "1yahH4Agjj7U"
      },
      "execution_count": null,
      "outputs": []
    },
    {
      "cell_type": "code",
      "source": [
        "list = [4, 5, 6, 1, 2, 3]\n",
        "find_minimum_element(list)"
      ],
      "metadata": {
        "colab": {
          "base_uri": "https://localhost:8080/"
        },
        "id": "VeKIdZDklDul",
        "outputId": "5c023609-3907-47af-ae58-6aae564e20fc"
      },
      "execution_count": null,
      "outputs": [
        {
          "output_type": "execute_result",
          "data": {
            "text/plain": [
              "2"
            ]
          },
          "metadata": {},
          "execution_count": 18
        }
      ]
    },
    {
      "cell_type": "markdown",
      "source": [
        "31. Write a program to find the sum of all even numbers in a list.\n"
      ],
      "metadata": {
        "id": "WyRi7kkUs39F"
      }
    },
    {
      "cell_type": "code",
      "source": [
        "def sum_even_numbers(numbers):\n",
        "    even_sum = 0\n",
        "\n",
        "    for i in numbers:\n",
        "        if i % 2 == 0:\n",
        "            even_sum += i\n",
        "\n",
        "    return even_sum"
      ],
      "metadata": {
        "id": "-HGACIHnlK6B"
      },
      "execution_count": null,
      "outputs": []
    },
    {
      "cell_type": "code",
      "source": [
        "l = [1, 2, 3, 4, 5, 6, 7, 8, 9, 10]\n",
        "sum_even_numbers(l)\n",
        "\n"
      ],
      "metadata": {
        "colab": {
          "base_uri": "https://localhost:8080/"
        },
        "id": "GJCeU4-Ftj-I",
        "outputId": "deaab59b-4b69-479e-9491-29464bd240f6"
      },
      "execution_count": null,
      "outputs": [
        {
          "output_type": "execute_result",
          "data": {
            "text/plain": [
              "30"
            ]
          },
          "metadata": {},
          "execution_count": 20
        }
      ]
    },
    {
      "cell_type": "markdown",
      "source": [
        "32. Implement a function to calculate the power of a number using recursion."
      ],
      "metadata": {
        "id": "g8Ri_URJt2kj"
      }
    },
    {
      "cell_type": "code",
      "source": [
        "def power(base, exponent):\n",
        "\n",
        "    if exponent == 0:\n",
        "        return 1\n",
        "    else:\n",
        "        return base * power(base, exponent - 1)\n",
        "\n",
        "\n",
        "\n"
      ],
      "metadata": {
        "id": "bdXsNy9hEGo2"
      },
      "execution_count": null,
      "outputs": []
    },
    {
      "cell_type": "code",
      "source": [
        "power(2, 3)"
      ],
      "metadata": {
        "colab": {
          "base_uri": "https://localhost:8080/"
        },
        "id": "WlD0YO6bEHi5",
        "outputId": "9d3f9ea6-16cc-4919-ef16-96bc8010058a"
      },
      "execution_count": null,
      "outputs": [
        {
          "output_type": "execute_result",
          "data": {
            "text/plain": [
              "8"
            ]
          },
          "metadata": {},
          "execution_count": 24
        }
      ]
    },
    {
      "cell_type": "markdown",
      "source": [
        "33. Write a Python program to remove duplicates from a list while preserving the order."
      ],
      "metadata": {
        "id": "GJniiCK6EbF7"
      }
    },
    {
      "cell_type": "code",
      "source": [
        "def remove_duplicates_preserve_order(list):\n",
        "    unique_list = []\n",
        "    seen = set()\n",
        "\n",
        "    for item in list:\n",
        "        if item not in seen:\n",
        "            unique_list.append(item)\n",
        "            seen.add(item)\n",
        "\n",
        "    return unique_list"
      ],
      "metadata": {
        "id": "Pq7n6U-hEWEp"
      },
      "execution_count": null,
      "outputs": []
    },
    {
      "cell_type": "code",
      "source": [
        "l= [1, 5, 2, 3, 2, 7, 4, 3, 5, 6, 4]\n",
        "remove_duplicates_preserve_order(l)"
      ],
      "metadata": {
        "colab": {
          "base_uri": "https://localhost:8080/"
        },
        "id": "-hqSxvuhFup9",
        "outputId": "eedaca95-88fa-4b9d-a55b-5a4ad718948f"
      },
      "execution_count": null,
      "outputs": [
        {
          "output_type": "execute_result",
          "data": {
            "text/plain": [
              "[1, 5, 2, 3, 7, 4, 6]"
            ]
          },
          "metadata": {},
          "execution_count": 31
        }
      ]
    },
    {
      "cell_type": "markdown",
      "source": [
        "34. Implement a function to find the longest common prefix among a list of strings.\n"
      ],
      "metadata": {
        "id": "gq-6OgXUGPhe"
      }
    },
    {
      "cell_type": "code",
      "source": [
        "def longest_common_prefix(strings):\n",
        "    if not strings:\n",
        "        return \"\"\n",
        "\n",
        "    prefix = strings[0]\n",
        "\n",
        "    for string in strings[1:]:\n",
        "        while string[:len(prefix)] != prefix:\n",
        "            prefix = prefix[:-1]\n",
        "            if not prefix:\n",
        "                return \"\"\n",
        "\n",
        "    return prefix"
      ],
      "metadata": {
        "id": "_Wc8qcjaFvX8"
      },
      "execution_count": null,
      "outputs": []
    },
    {
      "cell_type": "code",
      "source": [
        "str_list = [\"flower\", \"flow\", \"flight\"]\n",
        "longest_common_prefix(str_list)\n"
      ],
      "metadata": {
        "colab": {
          "base_uri": "https://localhost:8080/",
          "height": 35
        },
        "id": "MGRR19QcHX-l",
        "outputId": "39143b4f-ed9d-4b2f-b65c-9292aa69a266"
      },
      "execution_count": null,
      "outputs": [
        {
          "output_type": "execute_result",
          "data": {
            "text/plain": [
              "'fl'"
            ],
            "application/vnd.google.colaboratory.intrinsic+json": {
              "type": "string"
            }
          },
          "metadata": {},
          "execution_count": 33
        }
      ]
    },
    {
      "cell_type": "markdown",
      "source": [
        "35. Write a program to check if a given number is a perfect square.\n"
      ],
      "metadata": {
        "id": "JOp4tMhsHl8J"
      }
    },
    {
      "cell_type": "code",
      "source": [
        "def is_perfect_square(number):\n",
        "\n",
        "    for i in range(1, number + 1):\n",
        "        if i * i == number:\n",
        "            return True\n",
        "    return False\n"
      ],
      "metadata": {
        "id": "kGdihRLMHhj4"
      },
      "execution_count": null,
      "outputs": []
    },
    {
      "cell_type": "code",
      "source": [
        "is_perfect_square(25)"
      ],
      "metadata": {
        "colab": {
          "base_uri": "https://localhost:8080/"
        },
        "id": "NC7-wb4YH80M",
        "outputId": "92fdd548-d54d-48d5-862b-7509cfb84b6b"
      },
      "execution_count": null,
      "outputs": [
        {
          "output_type": "execute_result",
          "data": {
            "text/plain": [
              "True"
            ]
          },
          "metadata": {},
          "execution_count": 36
        }
      ]
    },
    {
      "cell_type": "markdown",
      "source": [
        "36. Implement a function to calculate the product of all elements in a list."
      ],
      "metadata": {
        "id": "tnHvdrBwIOLF"
      }
    },
    {
      "cell_type": "code",
      "source": [
        "def calculate_product(numbers):\n",
        "    product = 1\n",
        "\n",
        "    for num in numbers:\n",
        "        product *= num\n",
        "\n",
        "    return product\n"
      ],
      "metadata": {
        "id": "oNo4AJtlIEBG"
      },
      "execution_count": null,
      "outputs": []
    },
    {
      "cell_type": "code",
      "source": [
        "\n",
        "num_list = [1, 2, 3, 4, 5]\n",
        "calculate_product(num_list)\n"
      ],
      "metadata": {
        "colab": {
          "base_uri": "https://localhost:8080/"
        },
        "id": "Gx8Kkl0OInpc",
        "outputId": "1a1e63a2-e26d-43c5-d1e5-11bbd2016739"
      },
      "execution_count": null,
      "outputs": [
        {
          "output_type": "execute_result",
          "data": {
            "text/plain": [
              "120"
            ]
          },
          "metadata": {},
          "execution_count": 38
        }
      ]
    },
    {
      "cell_type": "markdown",
      "source": [
        "37. Write a Python program to reverse the order of words in a sentence while preserving the word order.\n"
      ],
      "metadata": {
        "id": "W9tClxM8I4uN"
      }
    },
    {
      "cell_type": "code",
      "source": [
        "def reverse_words(sentence):\n",
        "\n",
        "    words = sentence.split(\" \")\n",
        "    reversed_words = []\n",
        "    for word in words[::-1]:\n",
        "        reversed_words.append(word)\n",
        "    return \" \".join(reversed_words)"
      ],
      "metadata": {
        "id": "yJvb-bWEIsW5"
      },
      "execution_count": null,
      "outputs": []
    },
    {
      "cell_type": "code",
      "source": [
        "sentence = \"This is a sentence.\"\n",
        "reverse_words(sentence)\n"
      ],
      "metadata": {
        "colab": {
          "base_uri": "https://localhost:8080/",
          "height": 35
        },
        "id": "zoRDpBSvK9k1",
        "outputId": "26c6ce64-9ef6-46c8-cf1f-ff197c0b3b50"
      },
      "execution_count": null,
      "outputs": [
        {
          "output_type": "execute_result",
          "data": {
            "text/plain": [
              "'sentence. a is This'"
            ],
            "application/vnd.google.colaboratory.intrinsic+json": {
              "type": "string"
            }
          },
          "metadata": {},
          "execution_count": 40
        }
      ]
    },
    {
      "cell_type": "markdown",
      "source": [
        "38. Implement a function to find the missing number in a given list of consecutive numbers.\n"
      ],
      "metadata": {
        "id": "S_mEVPxkLVE-"
      }
    },
    {
      "cell_type": "code",
      "source": [
        "def find_missing_number(numbers):\n",
        "    n = len(numbers) + 1\n",
        "    expected_sum = (n * (n + 1)) // 2\n",
        "    actual_sum = sum(numbers)\n",
        "    missing_number = expected_sum - actual_sum\n",
        "    return missing_number\n"
      ],
      "metadata": {
        "id": "GehwdqcsLA7U"
      },
      "execution_count": null,
      "outputs": []
    },
    {
      "cell_type": "code",
      "source": [
        "number_list = [1, 2, 4, 5, 6]\n",
        "find_missing_number(number_list)\n"
      ],
      "metadata": {
        "colab": {
          "base_uri": "https://localhost:8080/"
        },
        "id": "iPxhAXuXMVdu",
        "outputId": "0419cd96-ac05-4135-ca9b-655b3fba78ed"
      },
      "execution_count": null,
      "outputs": [
        {
          "output_type": "execute_result",
          "data": {
            "text/plain": [
              "3"
            ]
          },
          "metadata": {},
          "execution_count": 42
        }
      ]
    },
    {
      "cell_type": "markdown",
      "source": [
        "39. Write a program to find the sum of digits of a given number."
      ],
      "metadata": {
        "id": "Tuz4F0LQMclh"
      }
    },
    {
      "cell_type": "code",
      "source": [
        "def sum_of_digits(number):\n",
        "\n",
        "    sum_of_digits = 0\n",
        "    while number > 0:\n",
        "        digit = number % 10\n",
        "        sum_of_digits += digit\n",
        "        number //= 10\n",
        "    return sum_of_digits\n"
      ],
      "metadata": {
        "id": "50CCp6oMMW3L"
      },
      "execution_count": null,
      "outputs": []
    },
    {
      "cell_type": "code",
      "source": [
        "number = 12345\n",
        "sum_of_digits(number)"
      ],
      "metadata": {
        "colab": {
          "base_uri": "https://localhost:8080/"
        },
        "id": "mn4JNXuhNOuY",
        "outputId": "ab726127-fc29-4699-ed4c-ca82c69f88c6"
      },
      "execution_count": null,
      "outputs": [
        {
          "output_type": "execute_result",
          "data": {
            "text/plain": [
              "15"
            ]
          },
          "metadata": {},
          "execution_count": 44
        }
      ]
    },
    {
      "cell_type": "markdown",
      "source": [
        "40. Implement a function to check if a given string is a valid palindrome considering case sensitivity."
      ],
      "metadata": {
        "id": "MmIvx3igNb3I"
      }
    },
    {
      "cell_type": "code",
      "source": [
        "def is_palindrome(string):\n",
        "    # Remove whitespace and convert string to lowercase\n",
        "    string = string.replace(\" \", \"\").lower()\n",
        "\n",
        "    # Check if the reversed string is equal to the original string\n",
        "    return string == string[::-1]\n"
      ],
      "metadata": {
        "id": "443Vg_b1NQDi"
      },
      "execution_count": null,
      "outputs": []
    },
    {
      "cell_type": "code",
      "source": [
        "\n",
        "string = \"A man a plan a canal Panama\"\n",
        "is_palindrome(string)"
      ],
      "metadata": {
        "colab": {
          "base_uri": "https://localhost:8080/"
        },
        "id": "3VIrZ_l0NmKt",
        "outputId": "31786a33-3b98-4b81-c64d-6ac3e958fb7e"
      },
      "execution_count": null,
      "outputs": [
        {
          "output_type": "execute_result",
          "data": {
            "text/plain": [
              "True"
            ]
          },
          "metadata": {},
          "execution_count": 46
        }
      ]
    },
    {
      "cell_type": "markdown",
      "source": [
        "41. Write a Python program to find the smallest missing positive integer in a list."
      ],
      "metadata": {
        "id": "E895V_IuN5bd"
      }
    },
    {
      "cell_type": "code",
      "source": [
        "def find_smallest_missing_positive_integer(list):\n",
        "\n",
        "\n",
        "    smallest_missing_positive_integer = 1\n",
        "    while smallest_missing_positive_integer in list:\n",
        "        smallest_missing_positive_integer += 1\n",
        "    return smallest_missing_positive_integer\n"
      ],
      "metadata": {
        "id": "gKwYZJRJNrgk"
      },
      "execution_count": null,
      "outputs": []
    },
    {
      "cell_type": "code",
      "source": [
        "list= [1, 2, 3, 4, 6]\n",
        "find_smallest_missing_positive_integer(list)"
      ],
      "metadata": {
        "colab": {
          "base_uri": "https://localhost:8080/"
        },
        "id": "mKYeweEKOXXn",
        "outputId": "2cf950fe-20a1-4fc0-cd89-94b3ec61b26a"
      },
      "execution_count": null,
      "outputs": [
        {
          "output_type": "execute_result",
          "data": {
            "text/plain": [
              "5"
            ]
          },
          "metadata": {},
          "execution_count": 76
        }
      ]
    },
    {
      "cell_type": "markdown",
      "source": [
        "42. Implement a function to find the longest palindrome substring in a given string."
      ],
      "metadata": {
        "id": "v6IX8SseQoiS"
      }
    },
    {
      "cell_type": "code",
      "source": [
        "def longest_palindrome_substring(string):\n",
        "\n",
        "    max_palindrome_length = 0\n",
        "    max_palindrome_substring = \"\"\n",
        "    for i in range(len(string)):\n",
        "        for j in range(i + 1, len(string) + 1):\n",
        "            if string[i:j] == string[j - 1::-1] and len(string[i:j]) > max_palindrome_length:\n",
        "                max_palindrome_length = len(string[i:j])\n",
        "                max_palindrome_substring = string[i:j]\n",
        "    return max_palindrome_substring"
      ],
      "metadata": {
        "id": "KoRUfhkkOdrK"
      },
      "execution_count": null,
      "outputs": []
    },
    {
      "cell_type": "code",
      "source": [
        "string = \"madam\"\n",
        "longest_palindrome_substring(string)"
      ],
      "metadata": {
        "colab": {
          "base_uri": "https://localhost:8080/",
          "height": 35
        },
        "id": "k2iOODlpQ5sA",
        "outputId": "af049bb9-7fb3-41ce-b7f7-71d974842cd1"
      },
      "execution_count": null,
      "outputs": [
        {
          "output_type": "execute_result",
          "data": {
            "text/plain": [
              "'madam'"
            ],
            "application/vnd.google.colaboratory.intrinsic+json": {
              "type": "string"
            }
          },
          "metadata": {},
          "execution_count": 79
        }
      ]
    },
    {
      "cell_type": "markdown",
      "source": [
        "43. Write a program to find the number of occurrences of a given element in a list."
      ],
      "metadata": {
        "id": "ctVslrxYRLOz"
      }
    },
    {
      "cell_type": "code",
      "source": [
        "def count_occurrences(list, element):\n",
        "    count = 0\n",
        "    for item in list:\n",
        "        if item == element:\n",
        "            count += 1\n",
        "    return count\n"
      ],
      "metadata": {
        "id": "fSTUigsbQ-0m"
      },
      "execution_count": null,
      "outputs": []
    },
    {
      "cell_type": "code",
      "source": [
        "number_list = [1, 2, 3, 2, 4, 2, 5]\n",
        "target_element = 2\n",
        "count_occurrences(number_list, target_element)"
      ],
      "metadata": {
        "colab": {
          "base_uri": "https://localhost:8080/"
        },
        "id": "YH-zR74CRcyO",
        "outputId": "fbedbb8b-0ae8-4f87-9956-0aecc72a9d7f"
      },
      "execution_count": null,
      "outputs": [
        {
          "output_type": "execute_result",
          "data": {
            "text/plain": [
              "3"
            ]
          },
          "metadata": {},
          "execution_count": 81
        }
      ]
    },
    {
      "cell_type": "markdown",
      "source": [
        "44. Implement a function to check if a given number is a perfect number."
      ],
      "metadata": {
        "id": "ROEgaBepRhYu"
      }
    },
    {
      "cell_type": "code",
      "source": [
        "def is_perfect_number(number):\n",
        "\n",
        "    factors = []\n",
        "    for i in range(1, number):\n",
        "        if number % i == 0:\n",
        "            factors.append(i)\n",
        "    if sum(factors) == number:\n",
        "        return True\n",
        "    return False\n"
      ],
      "metadata": {
        "id": "bmPi9Zh0RebI"
      },
      "execution_count": null,
      "outputs": []
    },
    {
      "cell_type": "code",
      "source": [
        "number = 6\n",
        "is_perfect_number(number)"
      ],
      "metadata": {
        "colab": {
          "base_uri": "https://localhost:8080/"
        },
        "id": "5f_9nFMdR2Ci",
        "outputId": "c3058e0d-bedc-4da3-a4b5-a35aa2e72c16"
      },
      "execution_count": null,
      "outputs": [
        {
          "output_type": "execute_result",
          "data": {
            "text/plain": [
              "True"
            ]
          },
          "metadata": {},
          "execution_count": 83
        }
      ]
    },
    {
      "cell_type": "markdown",
      "source": [
        "45. Write a Python program to remove all duplicates from a string."
      ],
      "metadata": {
        "id": "-rU6BicuSE2V"
      }
    },
    {
      "cell_type": "code",
      "source": [
        "def remove_duplicates(string):\n",
        "\n",
        "    seen = set()\n",
        "    new_string = \"\"\n",
        "    for character in string:\n",
        "        if character not in seen:\n",
        "            new_string += character\n",
        "            seen.add(character)\n",
        "    return new_string\n",
        "\n"
      ],
      "metadata": {
        "id": "kNgkMupLR5QC"
      },
      "execution_count": null,
      "outputs": []
    },
    {
      "cell_type": "code",
      "source": [
        "string = \"helloworld\"\n",
        "remove_duplicates(string)"
      ],
      "metadata": {
        "colab": {
          "base_uri": "https://localhost:8080/",
          "height": 35
        },
        "id": "cysawGlkScQr",
        "outputId": "76a80fa2-e316-4857-f349-401664614d0f"
      },
      "execution_count": null,
      "outputs": [
        {
          "output_type": "execute_result",
          "data": {
            "text/plain": [
              "'helowrd'"
            ],
            "application/vnd.google.colaboratory.intrinsic+json": {
              "type": "string"
            }
          },
          "metadata": {},
          "execution_count": 85
        }
      ]
    },
    {
      "cell_type": "markdown",
      "source": [
        "46. Implement a function to find the first missing positive"
      ],
      "metadata": {
        "id": "boULDmXtSjZF"
      }
    },
    {
      "cell_type": "code",
      "source": [
        "def find_first_missing_positive(nums):\n",
        "    # Remove non-positive numbers and duplicates\n",
        "    nums = set(filter(lambda x: x > 0, nums))\n",
        "\n",
        "    # Find the first missing positive number\n",
        "    for i in range(1, len(nums) + 2):\n",
        "        if i not in nums:\n",
        "            return i\n",
        "\n",
        "    # If no missing positive found, return the next positive number\n",
        "    return 1\n",
        "\n",
        "\n",
        "\n"
      ],
      "metadata": {
        "id": "fXw6cu7USfhh"
      },
      "execution_count": null,
      "outputs": []
    },
    {
      "cell_type": "code",
      "source": [
        "\n",
        "list= [1, 2, 0, 3, 5]\n",
        "find_first_missing_positive(list)"
      ],
      "metadata": {
        "colab": {
          "base_uri": "https://localhost:8080/"
        },
        "id": "Kdrk9VnmS832",
        "outputId": "f43ec78b-0656-43b8-8c69-52cbb06fdb23"
      },
      "execution_count": null,
      "outputs": [
        {
          "output_type": "execute_result",
          "data": {
            "text/plain": [
              "4"
            ]
          },
          "metadata": {},
          "execution_count": 91
        }
      ]
    },
    {
      "cell_type": "code",
      "source": [],
      "metadata": {
        "id": "IuxrwAihTTkd"
      },
      "execution_count": null,
      "outputs": []
    }
  ]
}